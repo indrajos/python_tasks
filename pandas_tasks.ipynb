{
 "cells": [
  {
   "cell_type": "markdown",
   "id": "e4662276",
   "metadata": {},
   "source": [
    "1) Load a dataset using Pandas and perform data cleaning operations such as removing null values, removing duplicates,number format etc."
   ]
  },
  {
   "cell_type": "code",
   "execution_count": 168,
   "id": "1ba90694",
   "metadata": {},
   "outputs": [],
   "source": [
    "import pandas as pd\n",
    "import numpy as np \n",
    "import matplotlib.pyplot as plt\n",
    "import seaborn as sns"
   ]
  },
  {
   "cell_type": "code",
   "execution_count": 169,
   "id": "abefd21e",
   "metadata": {},
   "outputs": [],
   "source": [
    "#pip install openpyxl"
   ]
  },
  {
   "cell_type": "code",
   "execution_count": 170,
   "id": "17adfb19",
   "metadata": {
    "scrolled": true
   },
   "outputs": [
    {
     "data": {
      "text/html": [
       "<div>\n",
       "<style scoped>\n",
       "    .dataframe tbody tr th:only-of-type {\n",
       "        vertical-align: middle;\n",
       "    }\n",
       "\n",
       "    .dataframe tbody tr th {\n",
       "        vertical-align: top;\n",
       "    }\n",
       "\n",
       "    .dataframe thead th {\n",
       "        text-align: right;\n",
       "    }\n",
       "</style>\n",
       "<table border=\"1\" class=\"dataframe\">\n",
       "  <thead>\n",
       "    <tr style=\"text-align: right;\">\n",
       "      <th></th>\n",
       "      <th>Segment</th>\n",
       "      <th>Category</th>\n",
       "      <th>Sub-Category</th>\n",
       "      <th>City</th>\n",
       "      <th>Order Date</th>\n",
       "      <th>Postal Code</th>\n",
       "      <th>Region</th>\n",
       "      <th>Ship Status</th>\n",
       "      <th>State</th>\n",
       "      <th>Profit</th>\n",
       "      <th>Quantity</th>\n",
       "      <th>Sales</th>\n",
       "    </tr>\n",
       "  </thead>\n",
       "  <tbody>\n",
       "    <tr>\n",
       "      <th>0</th>\n",
       "      <td>Home Office</td>\n",
       "      <td>Office Furniture</td>\n",
       "      <td>Storage Cabinets</td>\n",
       "      <td>Holyoke</td>\n",
       "      <td>2019-07-06</td>\n",
       "      <td>1040.0</td>\n",
       "      <td>Eastern</td>\n",
       "      <td>Early Delivery</td>\n",
       "      <td>Massachusetts</td>\n",
       "      <td>36</td>\n",
       "      <td>3</td>\n",
       "      <td>262</td>\n",
       "    </tr>\n",
       "    <tr>\n",
       "      <th>1</th>\n",
       "      <td>Corporate</td>\n",
       "      <td>Office Supplies</td>\n",
       "      <td>Folders</td>\n",
       "      <td>Leominster</td>\n",
       "      <td>2019-11-26</td>\n",
       "      <td>1453.0</td>\n",
       "      <td>Eastern</td>\n",
       "      <td>Early Delivery</td>\n",
       "      <td>Massachusetts</td>\n",
       "      <td>17</td>\n",
       "      <td>5</td>\n",
       "      <td>732</td>\n",
       "    </tr>\n",
       "    <tr>\n",
       "      <th>2</th>\n",
       "      <td>Corporate</td>\n",
       "      <td>Office Supplies</td>\n",
       "      <td>Folders</td>\n",
       "      <td>Leominster</td>\n",
       "      <td>2019-11-26</td>\n",
       "      <td>1453.0</td>\n",
       "      <td>Eastern</td>\n",
       "      <td>Early Delivery</td>\n",
       "      <td>Massachusetts</td>\n",
       "      <td>12</td>\n",
       "      <td>5</td>\n",
       "      <td>15</td>\n",
       "    </tr>\n",
       "    <tr>\n",
       "      <th>3</th>\n",
       "      <td>Consumer</td>\n",
       "      <td>Office Supplies</td>\n",
       "      <td>Label Maker Tape</td>\n",
       "      <td>Leominster</td>\n",
       "      <td>2019-02-25</td>\n",
       "      <td>1453.0</td>\n",
       "      <td>Eastern</td>\n",
       "      <td>Early Delivery</td>\n",
       "      <td>Massachusetts</td>\n",
       "      <td>3</td>\n",
       "      <td>6</td>\n",
       "      <td>958</td>\n",
       "    </tr>\n",
       "    <tr>\n",
       "      <th>4</th>\n",
       "      <td>Consumer</td>\n",
       "      <td>Office Supplies</td>\n",
       "      <td>Printing Paper</td>\n",
       "      <td>Leominster</td>\n",
       "      <td>2019-02-25</td>\n",
       "      <td>1453.0</td>\n",
       "      <td>Eastern</td>\n",
       "      <td>Early Delivery</td>\n",
       "      <td>Massachusetts</td>\n",
       "      <td>55</td>\n",
       "      <td>3</td>\n",
       "      <td>22</td>\n",
       "    </tr>\n",
       "  </tbody>\n",
       "</table>\n",
       "</div>"
      ],
      "text/plain": [
       "       Segment          Category      Sub-Category        City Order Date  \\\n",
       "0  Home Office  Office Furniture  Storage Cabinets     Holyoke 2019-07-06   \n",
       "1    Corporate   Office Supplies           Folders  Leominster 2019-11-26   \n",
       "2    Corporate   Office Supplies           Folders  Leominster 2019-11-26   \n",
       "3     Consumer   Office Supplies  Label Maker Tape  Leominster 2019-02-25   \n",
       "4     Consumer   Office Supplies    Printing Paper  Leominster 2019-02-25   \n",
       "\n",
       "   Postal Code   Region     Ship Status          State  Profit  Quantity  \\\n",
       "0       1040.0  Eastern  Early Delivery  Massachusetts      36         3   \n",
       "1       1453.0  Eastern  Early Delivery  Massachusetts      17         5   \n",
       "2       1453.0  Eastern  Early Delivery  Massachusetts      12         5   \n",
       "3       1453.0  Eastern  Early Delivery  Massachusetts       3         6   \n",
       "4       1453.0  Eastern  Early Delivery  Massachusetts      55         3   \n",
       "\n",
       "   Sales  \n",
       "0    262  \n",
       "1    732  \n",
       "2     15  \n",
       "3    958  \n",
       "4     22  "
      ]
     },
     "execution_count": 170,
     "metadata": {},
     "output_type": "execute_result"
    }
   ],
   "source": [
    "df = pd.read_excel(\"dataset.xlsx\")\n",
    "df.head(5)"
   ]
  },
  {
   "cell_type": "code",
   "execution_count": 171,
   "id": "47383625",
   "metadata": {},
   "outputs": [],
   "source": [
    "df.rename(columns={'Order Date': 'Order_Date', 'Postal Code': 'Postal_Code', 'Ship Status': 'Ship_Status',\n",
    "                  'Sub-Category': 'Sub_Category'}, inplace=True)"
   ]
  },
  {
   "cell_type": "code",
   "execution_count": 172,
   "id": "3379a061",
   "metadata": {},
   "outputs": [
    {
     "data": {
      "text/plain": [
       "Index(['Segment', 'Category', 'Sub_Category', 'City', 'Order_Date',\n",
       "       'Postal_Code', 'Region', 'Ship_Status', 'State', 'Profit', 'Quantity',\n",
       "       'Sales'],\n",
       "      dtype='object')"
      ]
     },
     "execution_count": 172,
     "metadata": {},
     "output_type": "execute_result"
    }
   ],
   "source": [
    "df.columns"
   ]
  },
  {
   "cell_type": "code",
   "execution_count": 173,
   "id": "889994b7",
   "metadata": {},
   "outputs": [
    {
     "data": {
      "text/html": [
       "<div>\n",
       "<style scoped>\n",
       "    .dataframe tbody tr th:only-of-type {\n",
       "        vertical-align: middle;\n",
       "    }\n",
       "\n",
       "    .dataframe tbody tr th {\n",
       "        vertical-align: top;\n",
       "    }\n",
       "\n",
       "    .dataframe thead th {\n",
       "        text-align: right;\n",
       "    }\n",
       "</style>\n",
       "<table border=\"1\" class=\"dataframe\">\n",
       "  <thead>\n",
       "    <tr style=\"text-align: right;\">\n",
       "      <th></th>\n",
       "      <th>Postal_Code</th>\n",
       "      <th>Profit</th>\n",
       "      <th>Quantity</th>\n",
       "      <th>Sales</th>\n",
       "    </tr>\n",
       "  </thead>\n",
       "  <tbody>\n",
       "    <tr>\n",
       "      <th>count</th>\n",
       "      <td>9983.000000</td>\n",
       "      <td>9994.000000</td>\n",
       "      <td>9994.000000</td>\n",
       "      <td>9994.000000</td>\n",
       "    </tr>\n",
       "    <tr>\n",
       "      <th>mean</th>\n",
       "      <td>55245.233297</td>\n",
       "      <td>28.651891</td>\n",
       "      <td>3.789574</td>\n",
       "      <td>229.873324</td>\n",
       "    </tr>\n",
       "    <tr>\n",
       "      <th>std</th>\n",
       "      <td>32038.715955</td>\n",
       "      <td>234.255712</td>\n",
       "      <td>2.225110</td>\n",
       "      <td>623.248946</td>\n",
       "    </tr>\n",
       "    <tr>\n",
       "      <th>min</th>\n",
       "      <td>1040.000000</td>\n",
       "      <td>-6600.000000</td>\n",
       "      <td>1.000000</td>\n",
       "      <td>0.000000</td>\n",
       "    </tr>\n",
       "    <tr>\n",
       "      <th>25%</th>\n",
       "      <td>23223.000000</td>\n",
       "      <td>2.000000</td>\n",
       "      <td>2.000000</td>\n",
       "      <td>17.000000</td>\n",
       "    </tr>\n",
       "    <tr>\n",
       "      <th>50%</th>\n",
       "      <td>57103.000000</td>\n",
       "      <td>9.000000</td>\n",
       "      <td>3.000000</td>\n",
       "      <td>54.500000</td>\n",
       "    </tr>\n",
       "    <tr>\n",
       "      <th>75%</th>\n",
       "      <td>90008.000000</td>\n",
       "      <td>29.000000</td>\n",
       "      <td>5.000000</td>\n",
       "      <td>210.000000</td>\n",
       "    </tr>\n",
       "    <tr>\n",
       "      <th>max</th>\n",
       "      <td>99301.000000</td>\n",
       "      <td>8400.000000</td>\n",
       "      <td>14.000000</td>\n",
       "      <td>22638.000000</td>\n",
       "    </tr>\n",
       "  </tbody>\n",
       "</table>\n",
       "</div>"
      ],
      "text/plain": [
       "        Postal_Code       Profit     Quantity         Sales\n",
       "count   9983.000000  9994.000000  9994.000000   9994.000000\n",
       "mean   55245.233297    28.651891     3.789574    229.873324\n",
       "std    32038.715955   234.255712     2.225110    623.248946\n",
       "min     1040.000000 -6600.000000     1.000000      0.000000\n",
       "25%    23223.000000     2.000000     2.000000     17.000000\n",
       "50%    57103.000000     9.000000     3.000000     54.500000\n",
       "75%    90008.000000    29.000000     5.000000    210.000000\n",
       "max    99301.000000  8400.000000    14.000000  22638.000000"
      ]
     },
     "execution_count": 173,
     "metadata": {},
     "output_type": "execute_result"
    }
   ],
   "source": [
    "df.describe()"
   ]
  },
  {
   "cell_type": "code",
   "execution_count": 174,
   "id": "20cc5ca7",
   "metadata": {},
   "outputs": [
    {
     "name": "stdout",
     "output_type": "stream",
     "text": [
      "<class 'pandas.core.frame.DataFrame'>\n",
      "RangeIndex: 9994 entries, 0 to 9993\n",
      "Data columns (total 12 columns):\n",
      " #   Column        Non-Null Count  Dtype         \n",
      "---  ------        --------------  -----         \n",
      " 0   Segment       9994 non-null   object        \n",
      " 1   Category      9994 non-null   object        \n",
      " 2   Sub_Category  9994 non-null   object        \n",
      " 3   City          9994 non-null   object        \n",
      " 4   Order_Date    9994 non-null   datetime64[ns]\n",
      " 5   Postal_Code   9983 non-null   float64       \n",
      " 6   Region        9994 non-null   object        \n",
      " 7   Ship_Status   9994 non-null   object        \n",
      " 8   State         9994 non-null   object        \n",
      " 9   Profit        9994 non-null   int64         \n",
      " 10  Quantity      9994 non-null   int64         \n",
      " 11  Sales         9994 non-null   int64         \n",
      "dtypes: datetime64[ns](1), float64(1), int64(3), object(7)\n",
      "memory usage: 937.1+ KB\n"
     ]
    }
   ],
   "source": [
    "df.info()"
   ]
  },
  {
   "cell_type": "code",
   "execution_count": 175,
   "id": "a31741f7",
   "metadata": {},
   "outputs": [
    {
     "data": {
      "text/plain": [
       "(9994, 12)"
      ]
     },
     "execution_count": 175,
     "metadata": {},
     "output_type": "execute_result"
    }
   ],
   "source": [
    "np.shape(df)"
   ]
  },
  {
   "cell_type": "markdown",
   "id": "dea847c5",
   "metadata": {},
   "source": [
    "2) Use Pandas to calculate summary statistics for a dataset, such as mean, median, and standard deviation."
   ]
  },
  {
   "cell_type": "code",
   "execution_count": 176,
   "id": "af333be9",
   "metadata": {},
   "outputs": [
    {
     "data": {
      "text/plain": [
       "3.789573744246548"
      ]
     },
     "execution_count": 176,
     "metadata": {},
     "output_type": "execute_result"
    }
   ],
   "source": [
    "df.Quantity.mean()"
   ]
  },
  {
   "cell_type": "code",
   "execution_count": 177,
   "id": "c4402766",
   "metadata": {},
   "outputs": [
    {
     "data": {
      "text/plain": [
       "9.0"
      ]
     },
     "execution_count": 177,
     "metadata": {},
     "output_type": "execute_result"
    }
   ],
   "source": [
    "df.Profit.median()"
   ]
  },
  {
   "cell_type": "code",
   "execution_count": 178,
   "id": "ff1d3306",
   "metadata": {},
   "outputs": [
    {
     "data": {
      "text/plain": [
       "623.2489456361585"
      ]
     },
     "execution_count": 178,
     "metadata": {},
     "output_type": "execute_result"
    }
   ],
   "source": [
    "df.Sales.std()"
   ]
  },
  {
   "cell_type": "markdown",
   "id": "bad0d853",
   "metadata": {},
   "source": [
    "3) Create a scatter plot using Matplotlib to visualize the relationship between two variables in a dataset."
   ]
  },
  {
   "cell_type": "code",
   "execution_count": 179,
   "id": "0f5cf25c",
   "metadata": {},
   "outputs": [
    {
     "data": {
      "text/plain": [
       "Text(0.5, 1.0, 'Profit per Region')"
      ]
     },
     "execution_count": 179,
     "metadata": {},
     "output_type": "execute_result"
    },
    {
     "data": {
      "image/png": "[encoded data removed]",
      "text/plain": [
       "<Figure size 432x288 with 1 Axes>"
      ]
     },
     "metadata": {
      "needs_background": "light"
     },
     "output_type": "display_data"
    }
   ],
   "source": [
    "plt.scatter(df.Region, df.Profit)\n",
    "plt.title(\"Profit per Region\")"
   ]
  },
  {
   "cell_type": "markdown",
   "id": "2bc41ac2",
   "metadata": {},
   "source": [
    "4) Use Pandas to group the data by a categorical variable and calculate summary statistics for each group."
   ]
  },
  {
   "cell_type": "code",
   "execution_count": 180,
   "id": "360ccd06",
   "metadata": {},
   "outputs": [
    {
     "data": {
      "text/plain": [
       "Sub_Category\n",
       "Folders                  1523\n",
       "Printing Paper           1370\n",
       "Corner Desks              957\n",
       "Phone and Fax             889\n",
       "Storage and Archive       846\n",
       "Artwork and Statues       796\n",
       "Cables and Connectors     775\n",
       "Computer Chairs           617\n",
       "Envelopes                 471\n",
       "Kitchen Appliances        466\n",
       "Label Maker Tape          364\n",
       "Standard Desks            319\n",
       "Storage Cabinets          228\n",
       "Stationary Supplies       190\n",
       "Printers                  183\n",
       "Name: Sub_Category, dtype: int64"
      ]
     },
     "execution_count": 180,
     "metadata": {},
     "output_type": "execute_result"
    }
   ],
   "source": [
    "subcategory = df.groupby('Sub_Category')['Sub_Category'].count()\n",
    "subcategory.sort_values(ascending=False)"
   ]
  },
  {
   "cell_type": "markdown",
   "id": "47c23622",
   "metadata": {},
   "source": [
    "5) Create a line chart using Matplotlib to visualize the trend of a variable over time."
   ]
  },
  {
   "cell_type": "code",
   "execution_count": 181,
   "id": "2469390d",
   "metadata": {},
   "outputs": [],
   "source": [
    "sorted_df = df.sort_values(by=['Order_Date'])"
   ]
  },
  {
   "cell_type": "code",
   "execution_count": 182,
   "id": "b9c388cc",
   "metadata": {},
   "outputs": [
    {
     "data": {
      "text/plain": [
       "Text(0, 0.5, 'Sales')"
      ]
     },
     "execution_count": 182,
     "metadata": {},
     "output_type": "execute_result"
    },
    {
     "data": {
      "image/png": "[encoded data removed]",
      "text/plain": [
       "<Figure size 1944x432 with 1 Axes>"
      ]
     },
     "metadata": {
      "needs_background": "light"
     },
     "output_type": "display_data"
    }
   ],
   "source": [
    "plt.figure(figsize=(27,6))\n",
    "\n",
    "plt.plot(sorted_df.Order_Date, sorted_df.Sales, color='green', marker='o', linestyle='solid')\n",
    "plt.title(\"Sales by Date\")\n",
    "plt.xlabel(\"Oerder Date\")\n",
    "plt.ylabel(\"Sales\")"
   ]
  },
  {
   "cell_type": "markdown",
   "id": "f7bdfdec",
   "metadata": {},
   "source": [
    "6) Use Pandas to merge two datasets together based on a common key"
   ]
  },
  {
   "cell_type": "code",
   "execution_count": 183,
   "id": "fc9e66eb",
   "metadata": {},
   "outputs": [
    {
     "data": {
      "text/html": [
       "<div>\n",
       "<style scoped>\n",
       "    .dataframe tbody tr th:only-of-type {\n",
       "        vertical-align: middle;\n",
       "    }\n",
       "\n",
       "    .dataframe tbody tr th {\n",
       "        vertical-align: top;\n",
       "    }\n",
       "\n",
       "    .dataframe thead th {\n",
       "        text-align: right;\n",
       "    }\n",
       "</style>\n",
       "<table border=\"1\" class=\"dataframe\">\n",
       "  <thead>\n",
       "    <tr style=\"text-align: right;\">\n",
       "      <th></th>\n",
       "      <th>Days to Ship (Actual)</th>\n",
       "      <th>Days to Ship (Scheduled)</th>\n",
       "      <th>Profit per Customer</th>\n",
       "      <th>Profit per Order</th>\n",
       "      <th>Sales Forecast</th>\n",
       "      <th>Sales per Customer</th>\n",
       "      <th>Units Estimate</th>\n",
       "      <th>Ship Status</th>\n",
       "      <th>Profit Ratio</th>\n",
       "      <th>Category</th>\n",
       "      <th>...</th>\n",
       "      <th>Product Name</th>\n",
       "      <th>Profit</th>\n",
       "      <th>Quantity</th>\n",
       "      <th>Region</th>\n",
       "      <th>Sales</th>\n",
       "      <th>Segment</th>\n",
       "      <th>Ship Date</th>\n",
       "      <th>Ship Mode</th>\n",
       "      <th>State</th>\n",
       "      <th>Sub-Category</th>\n",
       "    </tr>\n",
       "  </thead>\n",
       "  <tbody>\n",
       "    <tr>\n",
       "      <th>0</th>\n",
       "      <td>4</td>\n",
       "      <td>6</td>\n",
       "      <td>40</td>\n",
       "      <td>39.60</td>\n",
       "      <td>104</td>\n",
       "      <td>79.20</td>\n",
       "      <td>4</td>\n",
       "      <td>Shipped Early</td>\n",
       "      <td>0.50</td>\n",
       "      <td>Office Supplies</td>\n",
       "      <td>...</td>\n",
       "      <td>Fellowes Folders, Blue</td>\n",
       "      <td>40</td>\n",
       "      <td>3</td>\n",
       "      <td>North</td>\n",
       "      <td>79</td>\n",
       "      <td>Corporate</td>\n",
       "      <td>2018-02-11</td>\n",
       "      <td>Standard Class</td>\n",
       "      <td>England</td>\n",
       "      <td>Storage</td>\n",
       "    </tr>\n",
       "    <tr>\n",
       "      <th>1</th>\n",
       "      <td>4</td>\n",
       "      <td>6</td>\n",
       "      <td>0</td>\n",
       "      <td>0.00</td>\n",
       "      <td>510</td>\n",
       "      <td>388.92</td>\n",
       "      <td>9</td>\n",
       "      <td>Shipped Early</td>\n",
       "      <td>0.00</td>\n",
       "      <td>Technology</td>\n",
       "      <td>...</td>\n",
       "      <td>SanDisk Numeric Keypad, Bluetooth</td>\n",
       "      <td>0</td>\n",
       "      <td>7</td>\n",
       "      <td>North</td>\n",
       "      <td>389</td>\n",
       "      <td>Corporate</td>\n",
       "      <td>2018-02-11</td>\n",
       "      <td>Standard Class</td>\n",
       "      <td>England</td>\n",
       "      <td>Accessories</td>\n",
       "    </tr>\n",
       "    <tr>\n",
       "      <th>2</th>\n",
       "      <td>4</td>\n",
       "      <td>6</td>\n",
       "      <td>16</td>\n",
       "      <td>16.11</td>\n",
       "      <td>46</td>\n",
       "      <td>35.19</td>\n",
       "      <td>4</td>\n",
       "      <td>Shipped Early</td>\n",
       "      <td>0.46</td>\n",
       "      <td>Office Supplies</td>\n",
       "      <td>...</td>\n",
       "      <td>Avery Legal Exhibit Labels, 5000 Label Set</td>\n",
       "      <td>16</td>\n",
       "      <td>3</td>\n",
       "      <td>North</td>\n",
       "      <td>35</td>\n",
       "      <td>Corporate</td>\n",
       "      <td>2018-02-11</td>\n",
       "      <td>Standard Class</td>\n",
       "      <td>England</td>\n",
       "      <td>Labels</td>\n",
       "    </tr>\n",
       "    <tr>\n",
       "      <th>3</th>\n",
       "      <td>4</td>\n",
       "      <td>6</td>\n",
       "      <td>13</td>\n",
       "      <td>13.20</td>\n",
       "      <td>67</td>\n",
       "      <td>50.94</td>\n",
       "      <td>3</td>\n",
       "      <td>Shipped Early</td>\n",
       "      <td>0.26</td>\n",
       "      <td>Office Supplies</td>\n",
       "      <td>...</td>\n",
       "      <td>Fellowes Folders, Wire Frame</td>\n",
       "      <td>13</td>\n",
       "      <td>2</td>\n",
       "      <td>North</td>\n",
       "      <td>51</td>\n",
       "      <td>Corporate</td>\n",
       "      <td>2018-02-11</td>\n",
       "      <td>Standard Class</td>\n",
       "      <td>England</td>\n",
       "      <td>Storage</td>\n",
       "    </tr>\n",
       "    <tr>\n",
       "      <th>4</th>\n",
       "      <td>4</td>\n",
       "      <td>6</td>\n",
       "      <td>74</td>\n",
       "      <td>73.71</td>\n",
       "      <td>403</td>\n",
       "      <td>307.44</td>\n",
       "      <td>4</td>\n",
       "      <td>Shipped Early</td>\n",
       "      <td>0.24</td>\n",
       "      <td>Technology</td>\n",
       "      <td>...</td>\n",
       "      <td>Memorex Memory Card, USB</td>\n",
       "      <td>74</td>\n",
       "      <td>3</td>\n",
       "      <td>North</td>\n",
       "      <td>307</td>\n",
       "      <td>Corporate</td>\n",
       "      <td>2018-02-11</td>\n",
       "      <td>Standard Class</td>\n",
       "      <td>England</td>\n",
       "      <td>Accessories</td>\n",
       "    </tr>\n",
       "  </tbody>\n",
       "</table>\n",
       "<p>5 rows × 28 columns</p>\n",
       "</div>"
      ],
      "text/plain": [
       "   Days to Ship (Actual)  Days to Ship (Scheduled)  Profit per Customer  \\\n",
       "0                      4                         6                   40   \n",
       "1                      4                         6                    0   \n",
       "2                      4                         6                   16   \n",
       "3                      4                         6                   13   \n",
       "4                      4                         6                   74   \n",
       "\n",
       "   Profit per Order  Sales Forecast  Sales per Customer  Units Estimate  \\\n",
       "0             39.60             104               79.20               4   \n",
       "1              0.00             510              388.92               9   \n",
       "2             16.11              46               35.19               4   \n",
       "3             13.20              67               50.94               3   \n",
       "4             73.71             403              307.44               4   \n",
       "\n",
       "     Ship Status  Profit Ratio         Category  ...  \\\n",
       "0  Shipped Early          0.50  Office Supplies  ...   \n",
       "1  Shipped Early          0.00       Technology  ...   \n",
       "2  Shipped Early          0.46  Office Supplies  ...   \n",
       "3  Shipped Early          0.26  Office Supplies  ...   \n",
       "4  Shipped Early          0.24       Technology  ...   \n",
       "\n",
       "                                 Product Name Profit Quantity  Region  Sales  \\\n",
       "0                      Fellowes Folders, Blue     40        3   North     79   \n",
       "1           SanDisk Numeric Keypad, Bluetooth      0        7   North    389   \n",
       "2  Avery Legal Exhibit Labels, 5000 Label Set     16        3   North     35   \n",
       "3                Fellowes Folders, Wire Frame     13        2   North     51   \n",
       "4                    Memorex Memory Card, USB     74        3   North    307   \n",
       "\n",
       "     Segment  Ship Date       Ship Mode    State  Sub-Category  \n",
       "0  Corporate 2018-02-11  Standard Class  England       Storage  \n",
       "1  Corporate 2018-02-11  Standard Class  England   Accessories  \n",
       "2  Corporate 2018-02-11  Standard Class  England        Labels  \n",
       "3  Corporate 2018-02-11  Standard Class  England       Storage  \n",
       "4  Corporate 2018-02-11  Standard Class  England   Accessories  \n",
       "\n",
       "[5 rows x 28 columns]"
      ]
     },
     "execution_count": 183,
     "metadata": {},
     "output_type": "execute_result"
    }
   ],
   "source": [
    "df2 = pd.read_excel(\"superstore.xlsx\")\n",
    "df2.head(2)"
   ]
  },
  {
   "cell_type": "code",
   "execution_count": 184,
   "id": "6b4dac8f",
   "metadata": {},
   "outputs": [
    {
     "data": {
      "text/html": [
       "<div>\n",
       "<style scoped>\n",
       "    .dataframe tbody tr th:only-of-type {\n",
       "        vertical-align: middle;\n",
       "    }\n",
       "\n",
       "    .dataframe tbody tr th {\n",
       "        vertical-align: top;\n",
       "    }\n",
       "\n",
       "    .dataframe thead th {\n",
       "        text-align: right;\n",
       "    }\n",
       "</style>\n",
       "<table border=\"1\" class=\"dataframe\">\n",
       "  <thead>\n",
       "    <tr style=\"text-align: right;\">\n",
       "      <th></th>\n",
       "      <th>Segment_x</th>\n",
       "      <th>Category</th>\n",
       "      <th>Sub_Category</th>\n",
       "      <th>City_x</th>\n",
       "      <th>Order_Date</th>\n",
       "      <th>Postal_Code</th>\n",
       "      <th>Region_x</th>\n",
       "      <th>Ship_Status</th>\n",
       "      <th>State_x</th>\n",
       "      <th>Profit_x</th>\n",
       "      <th>...</th>\n",
       "      <th>Product Name</th>\n",
       "      <th>Profit_y</th>\n",
       "      <th>Quantity_y</th>\n",
       "      <th>Region_y</th>\n",
       "      <th>Sales_y</th>\n",
       "      <th>Segment_y</th>\n",
       "      <th>Ship Date</th>\n",
       "      <th>Ship Mode</th>\n",
       "      <th>State_y</th>\n",
       "      <th>Sub-Category</th>\n",
       "    </tr>\n",
       "  </thead>\n",
       "  <tbody>\n",
       "    <tr>\n",
       "      <th>0</th>\n",
       "      <td>Corporate</td>\n",
       "      <td>Office Supplies</td>\n",
       "      <td>Folders</td>\n",
       "      <td>Leominster</td>\n",
       "      <td>2019-11-26</td>\n",
       "      <td>1453.0</td>\n",
       "      <td>Eastern</td>\n",
       "      <td>Early Delivery</td>\n",
       "      <td>Massachusetts</td>\n",
       "      <td>17.0</td>\n",
       "      <td>...</td>\n",
       "      <td>Fellowes Folders, Blue</td>\n",
       "      <td>40</td>\n",
       "      <td>3</td>\n",
       "      <td>North</td>\n",
       "      <td>79</td>\n",
       "      <td>Corporate</td>\n",
       "      <td>2018-02-11</td>\n",
       "      <td>Standard Class</td>\n",
       "      <td>England</td>\n",
       "      <td>Storage</td>\n",
       "    </tr>\n",
       "    <tr>\n",
       "      <th>1</th>\n",
       "      <td>Corporate</td>\n",
       "      <td>Office Supplies</td>\n",
       "      <td>Folders</td>\n",
       "      <td>Leominster</td>\n",
       "      <td>2019-11-26</td>\n",
       "      <td>1453.0</td>\n",
       "      <td>Eastern</td>\n",
       "      <td>Early Delivery</td>\n",
       "      <td>Massachusetts</td>\n",
       "      <td>12.0</td>\n",
       "      <td>...</td>\n",
       "      <td>Fellowes Folders, Blue</td>\n",
       "      <td>40</td>\n",
       "      <td>3</td>\n",
       "      <td>North</td>\n",
       "      <td>79</td>\n",
       "      <td>Corporate</td>\n",
       "      <td>2018-02-11</td>\n",
       "      <td>Standard Class</td>\n",
       "      <td>England</td>\n",
       "      <td>Storage</td>\n",
       "    </tr>\n",
       "    <tr>\n",
       "      <th>2</th>\n",
       "      <td>Consumer</td>\n",
       "      <td>Office Supplies</td>\n",
       "      <td>Label Maker Tape</td>\n",
       "      <td>Leominster</td>\n",
       "      <td>2019-02-25</td>\n",
       "      <td>1453.0</td>\n",
       "      <td>Eastern</td>\n",
       "      <td>Early Delivery</td>\n",
       "      <td>Massachusetts</td>\n",
       "      <td>3.0</td>\n",
       "      <td>...</td>\n",
       "      <td>Fellowes Folders, Blue</td>\n",
       "      <td>40</td>\n",
       "      <td>3</td>\n",
       "      <td>North</td>\n",
       "      <td>79</td>\n",
       "      <td>Corporate</td>\n",
       "      <td>2018-02-11</td>\n",
       "      <td>Standard Class</td>\n",
       "      <td>England</td>\n",
       "      <td>Storage</td>\n",
       "    </tr>\n",
       "    <tr>\n",
       "      <th>3</th>\n",
       "      <td>Consumer</td>\n",
       "      <td>Office Supplies</td>\n",
       "      <td>Printing Paper</td>\n",
       "      <td>Leominster</td>\n",
       "      <td>2019-02-25</td>\n",
       "      <td>1453.0</td>\n",
       "      <td>Eastern</td>\n",
       "      <td>Early Delivery</td>\n",
       "      <td>Massachusetts</td>\n",
       "      <td>55.0</td>\n",
       "      <td>...</td>\n",
       "      <td>Fellowes Folders, Blue</td>\n",
       "      <td>40</td>\n",
       "      <td>3</td>\n",
       "      <td>North</td>\n",
       "      <td>79</td>\n",
       "      <td>Corporate</td>\n",
       "      <td>2018-02-11</td>\n",
       "      <td>Standard Class</td>\n",
       "      <td>England</td>\n",
       "      <td>Storage</td>\n",
       "    </tr>\n",
       "    <tr>\n",
       "      <th>4</th>\n",
       "      <td>Corporate</td>\n",
       "      <td>Office Supplies</td>\n",
       "      <td>Printing Paper</td>\n",
       "      <td>Leominster</td>\n",
       "      <td>2019-11-26</td>\n",
       "      <td>1453.0</td>\n",
       "      <td>Eastern</td>\n",
       "      <td>Early Delivery</td>\n",
       "      <td>Massachusetts</td>\n",
       "      <td>16.0</td>\n",
       "      <td>...</td>\n",
       "      <td>Fellowes Folders, Blue</td>\n",
       "      <td>40</td>\n",
       "      <td>3</td>\n",
       "      <td>North</td>\n",
       "      <td>79</td>\n",
       "      <td>Corporate</td>\n",
       "      <td>2018-02-11</td>\n",
       "      <td>Standard Class</td>\n",
       "      <td>England</td>\n",
       "      <td>Storage</td>\n",
       "    </tr>\n",
       "  </tbody>\n",
       "</table>\n",
       "<p>5 rows × 39 columns</p>\n",
       "</div>"
      ],
      "text/plain": [
       "   Segment_x         Category      Sub_Category      City_x Order_Date  \\\n",
       "0  Corporate  Office Supplies           Folders  Leominster 2019-11-26   \n",
       "1  Corporate  Office Supplies           Folders  Leominster 2019-11-26   \n",
       "2   Consumer  Office Supplies  Label Maker Tape  Leominster 2019-02-25   \n",
       "3   Consumer  Office Supplies    Printing Paper  Leominster 2019-02-25   \n",
       "4  Corporate  Office Supplies    Printing Paper  Leominster 2019-11-26   \n",
       "\n",
       "   Postal_Code Region_x     Ship_Status        State_x  Profit_x  ...  \\\n",
       "0       1453.0  Eastern  Early Delivery  Massachusetts      17.0  ...   \n",
       "1       1453.0  Eastern  Early Delivery  Massachusetts      12.0  ...   \n",
       "2       1453.0  Eastern  Early Delivery  Massachusetts       3.0  ...   \n",
       "3       1453.0  Eastern  Early Delivery  Massachusetts      55.0  ...   \n",
       "4       1453.0  Eastern  Early Delivery  Massachusetts      16.0  ...   \n",
       "\n",
       "             Product Name  Profit_y  Quantity_y  Region_y  Sales_y  Segment_y  \\\n",
       "0  Fellowes Folders, Blue        40           3     North       79  Corporate   \n",
       "1  Fellowes Folders, Blue        40           3     North       79  Corporate   \n",
       "2  Fellowes Folders, Blue        40           3     North       79  Corporate   \n",
       "3  Fellowes Folders, Blue        40           3     North       79  Corporate   \n",
       "4  Fellowes Folders, Blue        40           3     North       79  Corporate   \n",
       "\n",
       "   Ship Date       Ship Mode  State_y Sub-Category  \n",
       "0 2018-02-11  Standard Class  England      Storage  \n",
       "1 2018-02-11  Standard Class  England      Storage  \n",
       "2 2018-02-11  Standard Class  England      Storage  \n",
       "3 2018-02-11  Standard Class  England      Storage  \n",
       "4 2018-02-11  Standard Class  England      Storage  \n",
       "\n",
       "[5 rows x 39 columns]"
      ]
     },
     "execution_count": 184,
     "metadata": {},
     "output_type": "execute_result"
    }
   ],
   "source": [
    "newdf = df.merge(df2, on='Category',how='right')\n",
    "newdf.head(5)"
   ]
  },
  {
   "cell_type": "markdown",
   "id": "140e57d8",
   "metadata": {},
   "source": [
    "7) Create a box plot to visualize the distribution of a variable across different categories."
   ]
  },
  {
   "cell_type": "code",
   "execution_count": 185,
   "id": "afbb5489",
   "metadata": {},
   "outputs": [
    {
     "data": {
      "text/plain": [
       "Text(0.5, 1.0, 'Quantity by Category')"
      ]
     },
     "execution_count": 185,
     "metadata": {},
     "output_type": "execute_result"
    },
    {
     "data": {
      "image/png": "[encoded data removed]",
      "text/plain": [
       "<Figure size 576x720 with 1 Axes>"
      ]
     },
     "metadata": {
      "needs_background": "light"
     },
     "output_type": "display_data"
    }
   ],
   "source": [
    "plt.figure(figsize=(8,10))\n",
    "sns.boxplot(x='Category',y='Quantity',data=df, palette='rainbow')\n",
    "plt.title(\"Quantity by Category\")"
   ]
  },
  {
   "cell_type": "markdown",
   "id": "a7292da0",
   "metadata": {},
   "source": [
    "8) Create a histogram using Matplotlib to visualize the distribution of a variable in a dataset."
   ]
  },
  {
   "cell_type": "code",
   "execution_count": 186,
   "id": "5d68ac55",
   "metadata": {},
   "outputs": [
    {
     "data": {
      "text/plain": [
       "Text(0.5, 1.0, 'Sub-categories')"
      ]
     },
     "execution_count": 186,
     "metadata": {},
     "output_type": "execute_result"
    },
    {
     "data": {
      "image/png": "[encoded data removed]",
      "text/plain": [
       "<Figure size 1944x432 with 1 Axes>"
      ]
     },
     "metadata": {
      "needs_background": "light"
     },
     "output_type": "display_data"
    }
   ],
   "source": [
    "plt.figure(figsize=(27,6))\n",
    "plt.hist(df.Sub_Category)\n",
    "plt.title('Sub-categories')"
   ]
  }
 ],
 "metadata": {
  "hide_input": false,
  "kernelspec": {
   "display_name": "Python 3 (ipykernel)",
   "language": "python",
   "name": "python3"
  },
  "language_info": {
   "codemirror_mode": {
    "name": "ipython",
    "version": 3
   },
   "file_extension": ".py",
   "mimetype": "text/x-python",
   "name": "python",
   "nbconvert_exporter": "python",
   "pygments_lexer": "ipython3",
   "version": "3.10.4"
  }
 },
 "nbformat": 4,
 "nbformat_minor": 5
}
