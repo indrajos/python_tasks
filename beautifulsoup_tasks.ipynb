{
 "cells": [
  {
   "cell_type": "code",
   "execution_count": 18,
   "id": "29a404ae",
   "metadata": {},
   "outputs": [],
   "source": [
    "import requests\n",
    "from bs4 import BeautifulSoup\n",
    "import unicodedata\n",
    "import pandas as pd"
   ]
  },
  {
   "cell_type": "markdown",
   "id": "ab20de5e",
   "metadata": {},
   "source": [
    "#### Using the Web scraping, read the list of the Sovereign States from https://en.wikipedia.org/wiki/List_of_sovereign_states"
   ]
  },
  {
   "cell_type": "code",
   "execution_count": 19,
   "id": "18cf5aaf",
   "metadata": {},
   "outputs": [],
   "source": [
    "response = requests.get(\"https://en.wikipedia.org/wiki/List_of_sovereign_states\")\n",
    "soup = BeautifulSoup(response.content, \"html.parser\")\n",
    "all_table = soup.find('tbody')\n",
    "countries = all_table.find_all('b')"
   ]
  },
  {
   "cell_type": "markdown",
   "id": "3c16d783",
   "metadata": {},
   "source": [
    "#### Get the list of the countries. When navigating to each of them (ex. Andorra), get the main information about the country.\n",
    "#### Write the program which gathers the main information about each country and writes them all (for all the countries) into the same file"
   ]
  },
  {
   "cell_type": "code",
   "execution_count": 20,
   "id": "c1cea0c5",
   "metadata": {},
   "outputs": [],
   "source": [
    "countries_info = dict()\n",
    "for country in countries:\n",
    "    specific_country = country.text.replace('\\xa0', '')\n",
    "\n",
    "    for url in country.find_all('a', href=True):\n",
    "        full_url = 'https://en.wikipedia.org/' + url['href']\n",
    "        countries_info[specific_country] = full_url"
   ]
  },
  {
   "cell_type": "code",
   "execution_count": 21,
   "id": "2b6e1681",
   "metadata": {},
   "outputs": [],
   "source": [
    "#countries_info"
   ]
  },
  {
   "cell_type": "code",
   "execution_count": 22,
   "id": "abfe2fe5",
   "metadata": {},
   "outputs": [],
   "source": [
    "file_text = open(\"countries_descriptions.txt\", \"w\", encoding=\"utf8\")"
   ]
  },
  {
   "cell_type": "code",
   "execution_count": 23,
   "id": "98562670",
   "metadata": {},
   "outputs": [],
   "source": [
    "for country_name, country_url in countries_info.items():\n",
    "    file_text.write(country_name)\n",
    "    resp = requests.get(country_url)\n",
    "    asoup = BeautifulSoup(resp.content, \"html.parser\")\n",
    "    bsoup = asoup.find(property=\"mw:PageProp/toc\").find_all_previous(\"p\")\n",
    "\n",
    "    description = []\n",
    "    for item in bsoup:\n",
    "        item = str(item.get_text())\n",
    "        description.append(item)\n",
    "\n",
    "    desc = reversed(description)\n",
    "    for paragraph in desc:\n",
    "        file_text.write(paragraph)\n",
    "    # I used break for run the cicle once, otherwise it takes time for scraping over 200 countries\n",
    "    break "
   ]
  },
  {
   "cell_type": "code",
   "execution_count": 24,
   "id": "1bda92ac",
   "metadata": {},
   "outputs": [],
   "source": [
    "file_text.close()"
   ]
  },
  {
   "cell_type": "markdown",
   "id": "9f80e563",
   "metadata": {},
   "source": [
    "#### Also from Wikipedia, get as much data about each country and summarize it into the dataframe and export to csv or excel file"
   ]
  },
  {
   "cell_type": "code",
   "execution_count": 25,
   "id": "257b75bd",
   "metadata": {
    "code_folding": []
   },
   "outputs": [],
   "source": [
    "some_country = requests.get(\"https://en.wikipedia.org/wiki/Afghanistan\")\n",
    "soup = BeautifulSoup(some_country.content, \"html.parser\")\n",
    "table = soup.table\n",
    "\n",
    "# I got only part of headers in this part. Also it is possible to get all of them if there would be enough time for this task\n",
    "headers = []\n",
    "\n",
    "label = table.find_all(class_=\"infobox-label\")\n",
    "for item in label:\n",
    "    if u'\\xa0' in item.text:\n",
    "        unnecessary = item\n",
    "    else:\n",
    "        clean_text = unicodedata.normalize(\"NFKD\", item.text)\n",
    "        headers.append(clean_text)"
   ]
  },
  {
   "cell_type": "code",
   "execution_count": 26,
   "id": "d76b5e6a",
   "metadata": {},
   "outputs": [],
   "source": [
    "headers[1] = 'Capital'\n",
    "headers[2] = 'Religion'\n",
    "headers.insert(0, 'State')\n",
    "#headers.insert(1, 'Status')\n",
    "headers.remove('')"
   ]
  },
  {
   "cell_type": "code",
   "execution_count": 27,
   "id": "9babea4e",
   "metadata": {},
   "outputs": [
    {
     "data": {
      "text/plain": [
       "['State',\n",
       " 'Status',\n",
       " 'Capital',\n",
       " 'Religion',\n",
       " 'Demonym(s)',\n",
       " 'Government',\n",
       " 'Legislature',\n",
       " 'Currency',\n",
       " 'Time zone',\n",
       " 'Driving side',\n",
       " 'Calling code',\n",
       " 'ISO 3166 code',\n",
       " 'Internet TLD']"
      ]
     },
     "execution_count": 27,
     "metadata": {},
     "output_type": "execute_result"
    }
   ],
   "source": [
    "headers"
   ]
  },
  {
   "cell_type": "code",
   "execution_count": 28,
   "id": "b3638f6a",
   "metadata": {},
   "outputs": [],
   "source": [
    "#headers = ['State', 'Status', 'Capital', 'Religion', 'Demonym(s)', 'Government', 'Legislature',\n",
    "#          'Currency', 'Time zone', 'Driving side', 'Calling code', 'ISO 3166 code', 'Internet TLD']"
   ]
  },
  {
   "cell_type": "code",
   "execution_count": 29,
   "id": "403cdcd3",
   "metadata": {},
   "outputs": [],
   "source": [
    "table_dict = dict()\n",
    "for header in headers:\n",
    "    table_dict[header] = 'NaN'"
   ]
  },
  {
   "cell_type": "code",
   "execution_count": 30,
   "id": "66d65c35",
   "metadata": {},
   "outputs": [],
   "source": [
    "df = pd.DataFrame(columns=headers)"
   ]
  },
  {
   "cell_type": "code",
   "execution_count": 31,
   "id": "c322653f",
   "metadata": {},
   "outputs": [],
   "source": [
    "# I used counter and break to run the cycle once, otherwise, it takes time to parse over 200 countries\n",
    "counter = 0\n",
    "\n",
    "for state, country_url in countries_info.items():\n",
    "    \n",
    "    table_dict['State'] = state\n",
    "    res = requests.get(country_url)\n",
    "    soup = BeautifulSoup(res.content, \"html.parser\")\n",
    "    country_soup = soup.table\n",
    "    rows = country_soup.find_all('tr')\n",
    "    for row in rows:\n",
    "        lines = []\n",
    "        label = row.find(class_=\"infobox-label\")\n",
    "        for header in headers[1:]:\n",
    "            if label is not None and header in label.text:\n",
    "                clean_text = unicodedata.normalize(\"NFKD\", row.find(class_=\"infobox-data\").text)\n",
    "                table_dict[header] = clean_text\n",
    "    new_row = pd.Series(table_dict)\n",
    "    df = pd.concat([df, new_row.to_frame().T], ignore_index=True)  \n",
    "\n",
    "    counter += 1\n",
    "    if counter > 5:\n",
    "        break"
   ]
  },
  {
   "cell_type": "code",
   "execution_count": 32,
   "id": "cc24d00d",
   "metadata": {},
   "outputs": [
    {
     "data": {
      "text/html": [
       "<div>\n",
       "<style scoped>\n",
       "    .dataframe tbody tr th:only-of-type {\n",
       "        vertical-align: middle;\n",
       "    }\n",
       "\n",
       "    .dataframe tbody tr th {\n",
       "        vertical-align: top;\n",
       "    }\n",
       "\n",
       "    .dataframe thead th {\n",
       "        text-align: right;\n",
       "    }\n",
       "</style>\n",
       "<table border=\"1\" class=\"dataframe\">\n",
       "  <thead>\n",
       "    <tr style=\"text-align: right;\">\n",
       "      <th></th>\n",
       "      <th>State</th>\n",
       "      <th>Status</th>\n",
       "      <th>Capital</th>\n",
       "      <th>Religion</th>\n",
       "      <th>Demonym(s)</th>\n",
       "      <th>Government</th>\n",
       "      <th>Legislature</th>\n",
       "      <th>Currency</th>\n",
       "      <th>Time zone</th>\n",
       "      <th>Driving side</th>\n",
       "      <th>Calling code</th>\n",
       "      <th>ISO 3166 code</th>\n",
       "      <th>Internet TLD</th>\n",
       "    </tr>\n",
       "  </thead>\n",
       "  <tbody>\n",
       "    <tr>\n",
       "      <th>0</th>\n",
       "      <td>Afghanistan</td>\n",
       "      <td>UN member state under an unrecognized government</td>\n",
       "      <td>Kabul34°31′N 69°11′E﻿ / ﻿34.517°N 69.183°E﻿ / ...</td>\n",
       "      <td>99.7% Islam (official)0.3% Others</td>\n",
       "      <td>Afghan[b][11][12]</td>\n",
       "      <td>Unitary totalitarian[13] provisional theocrati...</td>\n",
       "      <td>Leadership Council[15]</td>\n",
       "      <td>Afghani (افغانی) (AFN)</td>\n",
       "      <td>UTC+4:30Lunar Calendar[21] (Afghanistan Time)</td>\n",
       "      <td>right</td>\n",
       "      <td>+93</td>\n",
       "      <td>AF</td>\n",
       "      <td>.afافغانستان.</td>\n",
       "    </tr>\n",
       "    <tr>\n",
       "      <th>1</th>\n",
       "      <td>Albania</td>\n",
       "      <td>UN member state under an unrecognized government</td>\n",
       "      <td>Tirana41°19′N 19°49′E﻿ / ﻿41.317°N 19.817°E﻿ /...</td>\n",
       "      <td>59% Islam17% Christianity9% No religion15% Und...</td>\n",
       "      <td>Albanian</td>\n",
       "      <td>Unitary parliamentary republic</td>\n",
       "      <td>Kuvendi</td>\n",
       "      <td>Lek (ALL)</td>\n",
       "      <td>UTC+1 (CET)</td>\n",
       "      <td>right</td>\n",
       "      <td>+355</td>\n",
       "      <td>AL</td>\n",
       "      <td>.al</td>\n",
       "    </tr>\n",
       "    <tr>\n",
       "      <th>2</th>\n",
       "      <td>Algeria</td>\n",
       "      <td>UN member state under an unrecognized government</td>\n",
       "      <td>Algiers36°42′N 3°13′E﻿ / ﻿36.700°N 3.217°E﻿ / ...</td>\n",
       "      <td>99% Sunni Islam (official)1% other (inc. Chris...</td>\n",
       "      <td>Algerian</td>\n",
       "      <td>Unitary semi-presidential republic</td>\n",
       "      <td>Parliament</td>\n",
       "      <td>Algerian dinar (DZD)</td>\n",
       "      <td>UTC+1 (CET)</td>\n",
       "      <td>right</td>\n",
       "      <td>+213</td>\n",
       "      <td>DZ</td>\n",
       "      <td>.dzالجزائر.</td>\n",
       "    </tr>\n",
       "    <tr>\n",
       "      <th>3</th>\n",
       "      <td>Andorra</td>\n",
       "      <td>UN member state under an unrecognized government</td>\n",
       "      <td>Andorra la Vella42°30′23′′N 1°31′17′′E﻿ / ﻿42....</td>\n",
       "      <td>Christianity (Catholicism)</td>\n",
       "      <td>Andorran</td>\n",
       "      <td>Unitary parliamentary constitutional elective ...</td>\n",
       "      <td>General Council</td>\n",
       "      <td>Euro (€)[d] (EUR)</td>\n",
       "      <td>UTC+01 (CET)</td>\n",
       "      <td>right[13]</td>\n",
       "      <td>+376</td>\n",
       "      <td>AD</td>\n",
       "      <td>.ad[e]</td>\n",
       "    </tr>\n",
       "    <tr>\n",
       "      <th>4</th>\n",
       "      <td>Angola</td>\n",
       "      <td>UN member state under an unrecognized government</td>\n",
       "      <td>Luanda8°50′S 13°20′E﻿ / ﻿8.833°S 13.333°E﻿ / -...</td>\n",
       "      <td>92.9% Christianity—53.9% Roman Catholic—27.4% ...</td>\n",
       "      <td>Angolan</td>\n",
       "      <td>Unitary dominant-party presidential republic</td>\n",
       "      <td>National Assembly</td>\n",
       "      <td>Angolan kwanza (AOA)</td>\n",
       "      <td>UTC+1 (WAT)</td>\n",
       "      <td>right</td>\n",
       "      <td>+244</td>\n",
       "      <td>AO</td>\n",
       "      <td>.ao</td>\n",
       "    </tr>\n",
       "  </tbody>\n",
       "</table>\n",
       "</div>"
      ],
      "text/plain": [
       "         State                                            Status  \\\n",
       "0  Afghanistan  UN member state under an unrecognized government   \n",
       "1      Albania  UN member state under an unrecognized government   \n",
       "2      Algeria  UN member state under an unrecognized government   \n",
       "3      Andorra  UN member state under an unrecognized government   \n",
       "4       Angola  UN member state under an unrecognized government   \n",
       "\n",
       "                                             Capital  \\\n",
       "0  Kabul34°31′N 69°11′E﻿ / ﻿34.517°N 69.183°E﻿ / ...   \n",
       "1  Tirana41°19′N 19°49′E﻿ / ﻿41.317°N 19.817°E﻿ /...   \n",
       "2  Algiers36°42′N 3°13′E﻿ / ﻿36.700°N 3.217°E﻿ / ...   \n",
       "3  Andorra la Vella42°30′23′′N 1°31′17′′E﻿ / ﻿42....   \n",
       "4  Luanda8°50′S 13°20′E﻿ / ﻿8.833°S 13.333°E﻿ / -...   \n",
       "\n",
       "                                            Religion         Demonym(s)  \\\n",
       "0                  99.7% Islam (official)0.3% Others  Afghan[b][11][12]   \n",
       "1  59% Islam17% Christianity9% No religion15% Und...           Albanian   \n",
       "2  99% Sunni Islam (official)1% other (inc. Chris...           Algerian   \n",
       "3                         Christianity (Catholicism)           Andorran   \n",
       "4  92.9% Christianity—53.9% Roman Catholic—27.4% ...            Angolan   \n",
       "\n",
       "                                          Government             Legislature  \\\n",
       "0  Unitary totalitarian[13] provisional theocrati...  Leadership Council[15]   \n",
       "1                     Unitary parliamentary republic                 Kuvendi   \n",
       "2                 Unitary semi-presidential republic              Parliament   \n",
       "3  Unitary parliamentary constitutional elective ...         General Council   \n",
       "4       Unitary dominant-party presidential republic       National Assembly   \n",
       "\n",
       "                 Currency                                      Time zone  \\\n",
       "0  Afghani (افغانی) (AFN)  UTC+4:30Lunar Calendar[21] (Afghanistan Time)   \n",
       "1               Lek (ALL)                                    UTC+1 (CET)   \n",
       "2    Algerian dinar (DZD)                                    UTC+1 (CET)   \n",
       "3       Euro (€)[d] (EUR)                                   UTC+01 (CET)   \n",
       "4    Angolan kwanza (AOA)                                    UTC+1 (WAT)   \n",
       "\n",
       "  Driving side Calling code ISO 3166 code   Internet TLD  \n",
       "0        right          +93            AF  .afافغانستان.  \n",
       "1        right         +355            AL            .al  \n",
       "2        right         +213            DZ   .dzالجزائر.  \n",
       "3    right[13]         +376            AD         .ad[e]  \n",
       "4        right         +244            AO            .ao  "
      ]
     },
     "execution_count": 32,
     "metadata": {},
     "output_type": "execute_result"
    }
   ],
   "source": [
    "df.head(5)"
   ]
  },
  {
   "cell_type": "code",
   "execution_count": 33,
   "id": "45f62a90",
   "metadata": {},
   "outputs": [],
   "source": [
    "df.to_csv('countries_summary.csv', index=False)"
   ]
  },
  {
   "cell_type": "code",
   "execution_count": null,
   "id": "b065f011",
   "metadata": {},
   "outputs": [],
   "source": []
  }
 ],
 "metadata": {
  "hide_input": false,
  "kernelspec": {
   "display_name": "Python 3 (ipykernel)",
   "language": "python",
   "name": "python3"
  },
  "language_info": {
   "codemirror_mode": {
    "name": "ipython",
    "version": 3
   },
   "file_extension": ".py",
   "mimetype": "text/x-python",
   "name": "python",
   "nbconvert_exporter": "python",
   "pygments_lexer": "ipython3",
   "version": "3.10.4"
  }
 },
 "nbformat": 4,
 "nbformat_minor": 5
}
