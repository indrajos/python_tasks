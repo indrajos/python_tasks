{
 "cells": [
  {
   "cell_type": "markdown",
   "id": "a85934da",
   "metadata": {},
   "source": [
    "#### Try to move/migrate MySQL database created during the sessions to SQLite3"
   ]
  },
  {
   "cell_type": "code",
   "execution_count": 11,
   "id": "73967ae4",
   "metadata": {},
   "outputs": [
    {
     "name": "stdout",
     "output_type": "stream",
     "text": [
      "Connected to SQLite\n",
      "Total rows are:   1\n",
      "Printing each row\n",
      "date:  2006-01-05\n",
      "trans:  BUY\n",
      "symbol:  RHAT\n",
      "qty:  100.0\n",
      "price:  35.14\n",
      "\n",
      "\n",
      "The SQLite connection is closed\n"
     ]
    }
   ],
   "source": [
    "import sqlite3\n",
    "\n",
    "def readSqliteTable():\n",
    "    try:\n",
    "        sqliteConnection = sqlite3.connect('example.db')\n",
    "        cursor = sqliteConnection.cursor()\n",
    "        print(\"Connected to SQLite\")\n",
    "\n",
    "        sqlite_select_query = \"\"\"SELECT * from stocks\"\"\"\n",
    "        cursor.execute(sqlite_select_query)\n",
    "        records = cursor.fetchall()\n",
    "        print(\"Total rows are:  \", len(records))\n",
    "        print(\"Printing each row\")\n",
    "        for row in records:\n",
    "            print(\"date: \", row[0])\n",
    "            print(\"trans: \", row[1])\n",
    "            print(\"symbol: \", row[2])\n",
    "            print(\"qty: \", row[3])\n",
    "            print(\"price: \", row[4])\n",
    "            print(\"\\n\")\n",
    "\n",
    "        cursor.close()\n",
    "\n",
    "    except sqlite3.Error as error:\n",
    "        print(\"Failed to read data from sqlite table\", error)\n",
    "    finally:\n",
    "        if sqliteConnection:\n",
    "            sqliteConnection.close()\n",
    "            print(\"The SQLite connection is closed\")\n",
    "\n",
    "readSqliteTable()"
   ]
  },
  {
   "cell_type": "markdown",
   "id": "7d1c1cf2",
   "metadata": {},
   "source": [
    "#### Using MySQL or SQLite3 database : create a database which contains 2 tables: Countries and Cities (add the fields with the proper information about them - name,area, population, etc.). Each city should be linked to the country."
   ]
  },
  {
   "cell_type": "code",
   "execution_count": 12,
   "id": "97d77b59",
   "metadata": {},
   "outputs": [
    {
     "name": "stdout",
     "output_type": "stream",
     "text": [
      "('Kaunas', 157, 298753, 'Lithuania', 'LT')\n",
      "('Vilnius', 401, 580020, 'Lithuania', 'LT')\n",
      "('Riga', 307, 605802, 'Latvia', 'LV')\n",
      "('Tallinn', 159, 460642, 'Estonia', 'EE')\n"
     ]
    }
   ],
   "source": [
    "import mysql.connector\n",
    "\n",
    "cnx = mysql.connector.connect(user='root',\n",
    "                              password='',\n",
    "                              host='localhost',\n",
    "                              database='geo')\n",
    "\n",
    "cursor = cnx.cursor()\n",
    "\n",
    "query = \"select name, area, population, country, code from geo.cities ci inner join geo.countries co on ci.id = co.id\"\n",
    "cursor.execute(query)\n",
    "\n",
    "for row in cursor.fetchall():\n",
    "    print(row)\n",
    "\n",
    "cursor.close()\n",
    "cnx.close()"
   ]
  },
  {
   "cell_type": "markdown",
   "id": "63949a37",
   "metadata": {},
   "source": [
    "#### Create the Python program which allows to Insert/Update from the local files and Export to the local files."
   ]
  },
  {
   "cell_type": "code",
   "execution_count": 13,
   "id": "dd0b221c",
   "metadata": {},
   "outputs": [],
   "source": [
    "import pandas as pd\n",
    "import pymysql\n",
    "\n",
    "from sqlalchemy import create_engine\n",
    "from sqlalchemy import text"
   ]
  },
  {
   "cell_type": "code",
   "execution_count": 14,
   "id": "b1a980d1",
   "metadata": {},
   "outputs": [
    {
     "data": {
      "text/html": [
       "<div>\n",
       "<style scoped>\n",
       "    .dataframe tbody tr th:only-of-type {\n",
       "        vertical-align: middle;\n",
       "    }\n",
       "\n",
       "    .dataframe tbody tr th {\n",
       "        vertical-align: top;\n",
       "    }\n",
       "\n",
       "    .dataframe thead th {\n",
       "        text-align: right;\n",
       "    }\n",
       "</style>\n",
       "<table border=\"1\" class=\"dataframe\">\n",
       "  <thead>\n",
       "    <tr style=\"text-align: right;\">\n",
       "      <th></th>\n",
       "      <th>id</th>\n",
       "      <th>country</th>\n",
       "      <th>code</th>\n",
       "    </tr>\n",
       "  </thead>\n",
       "  <tbody>\n",
       "    <tr>\n",
       "      <th>0</th>\n",
       "      <td>1</td>\n",
       "      <td>Lithuania</td>\n",
       "      <td>LT</td>\n",
       "    </tr>\n",
       "    <tr>\n",
       "      <th>1</th>\n",
       "      <td>2</td>\n",
       "      <td>Latvia</td>\n",
       "      <td>LV</td>\n",
       "    </tr>\n",
       "    <tr>\n",
       "      <th>2</th>\n",
       "      <td>3</td>\n",
       "      <td>Estonia</td>\n",
       "      <td>EE</td>\n",
       "    </tr>\n",
       "    <tr>\n",
       "      <th>3</th>\n",
       "      <td>4</td>\n",
       "      <td>Poland</td>\n",
       "      <td>PL</td>\n",
       "    </tr>\n",
       "  </tbody>\n",
       "</table>\n",
       "</div>"
      ],
      "text/plain": [
       "   id    country code\n",
       "0   1  Lithuania   LT\n",
       "1   2     Latvia   LV\n",
       "2   3    Estonia   EE\n",
       "3   4     Poland   PL"
      ]
     },
     "execution_count": 14,
     "metadata": {},
     "output_type": "execute_result"
    }
   ],
   "source": [
    "update_countries = pd.read_csv(r\"countries.csv\")\n",
    "update_countries.head()"
   ]
  },
  {
   "cell_type": "code",
   "execution_count": 15,
   "id": "dc4b3ea3",
   "metadata": {},
   "outputs": [
    {
     "data": {
      "text/html": [
       "<div>\n",
       "<style scoped>\n",
       "    .dataframe tbody tr th:only-of-type {\n",
       "        vertical-align: middle;\n",
       "    }\n",
       "\n",
       "    .dataframe tbody tr th {\n",
       "        vertical-align: top;\n",
       "    }\n",
       "\n",
       "    .dataframe thead th {\n",
       "        text-align: right;\n",
       "    }\n",
       "</style>\n",
       "<table border=\"1\" class=\"dataframe\">\n",
       "  <thead>\n",
       "    <tr style=\"text-align: right;\">\n",
       "      <th></th>\n",
       "      <th>city_id</th>\n",
       "      <th>name</th>\n",
       "      <th>area</th>\n",
       "      <th>population</th>\n",
       "      <th>id</th>\n",
       "    </tr>\n",
       "  </thead>\n",
       "  <tbody>\n",
       "    <tr>\n",
       "      <th>0</th>\n",
       "      <td>1</td>\n",
       "      <td>Vilnius</td>\n",
       "      <td>401</td>\n",
       "      <td>580020</td>\n",
       "      <td>1</td>\n",
       "    </tr>\n",
       "    <tr>\n",
       "      <th>1</th>\n",
       "      <td>2</td>\n",
       "      <td>Riga</td>\n",
       "      <td>307</td>\n",
       "      <td>605802</td>\n",
       "      <td>2</td>\n",
       "    </tr>\n",
       "    <tr>\n",
       "      <th>2</th>\n",
       "      <td>3</td>\n",
       "      <td>Tallinn</td>\n",
       "      <td>159</td>\n",
       "      <td>460642</td>\n",
       "      <td>3</td>\n",
       "    </tr>\n",
       "    <tr>\n",
       "      <th>3</th>\n",
       "      <td>4</td>\n",
       "      <td>Kaunas</td>\n",
       "      <td>157</td>\n",
       "      <td>298753</td>\n",
       "      <td>1</td>\n",
       "    </tr>\n",
       "  </tbody>\n",
       "</table>\n",
       "</div>"
      ],
      "text/plain": [
       "   city_id     name  area  population  id\n",
       "0        1  Vilnius   401      580020   1\n",
       "1        2     Riga   307      605802   2\n",
       "2        3  Tallinn   159      460642   3\n",
       "3        4   Kaunas   157      298753   1"
      ]
     },
     "execution_count": 15,
     "metadata": {},
     "output_type": "execute_result"
    }
   ],
   "source": [
    "update_cities = pd.read_csv(r\"cities.csv\")\n",
    "update_cities.head()"
   ]
  },
  {
   "cell_type": "code",
   "execution_count": 16,
   "id": "7fc2c7ac",
   "metadata": {},
   "outputs": [
    {
     "data": {
      "text/plain": [
       "4"
      ]
     },
     "execution_count": 16,
     "metadata": {},
     "output_type": "execute_result"
    }
   ],
   "source": [
    "engine = create_engine(\"mysql+pymysql://root@localhost/geo\")\n",
    "update_countries.to_sql(name=\"countries\",con=engine,if_exists=\"replace\",index=False)"
   ]
  },
  {
   "cell_type": "code",
   "execution_count": 18,
   "id": "dfb1b0ca",
   "metadata": {},
   "outputs": [
    {
     "data": {
      "text/plain": [
       "4"
      ]
     },
     "execution_count": 18,
     "metadata": {},
     "output_type": "execute_result"
    }
   ],
   "source": [
    "update_cities.to_sql(name=\"cities\",con=engine,if_exists=\"replace\",index=False)"
   ]
  },
  {
   "cell_type": "code",
   "execution_count": 19,
   "id": "2c4bc7c8",
   "metadata": {},
   "outputs": [],
   "source": [
    "#Export to the local files\n",
    "\n",
    "engine = create_engine(\"mysql+pymysql://root@localhost/geo\")\n",
    "\n",
    "\n",
    "with engine.begin() as con:\n",
    "    query = text(\"SELECT * FROM cities\")\n",
    "    df_cities = pd.read_sql(query,con)\n",
    "    df_cities.to_csv('cities.csv', index=False)"
   ]
  },
  {
   "cell_type": "code",
   "execution_count": 20,
   "id": "dab0a5ad",
   "metadata": {},
   "outputs": [],
   "source": [
    "with engine.begin() as con:\n",
    "    query = text(\"SELECT * FROM countries\")\n",
    "    df_countries = pd.read_sql(query,con)\n",
    "    df_countries.to_csv('countries.csv', index=False)"
   ]
  }
 ],
 "metadata": {
  "hide_input": false,
  "kernelspec": {
   "display_name": "Python 3 (ipykernel)",
   "language": "python",
   "name": "python3"
  },
  "language_info": {
   "codemirror_mode": {
    "name": "ipython",
    "version": 3
   },
   "file_extension": ".py",
   "mimetype": "text/x-python",
   "name": "python",
   "nbconvert_exporter": "python",
   "pygments_lexer": "ipython3",
   "version": "3.10.4"
  }
 },
 "nbformat": 4,
 "nbformat_minor": 5
}
